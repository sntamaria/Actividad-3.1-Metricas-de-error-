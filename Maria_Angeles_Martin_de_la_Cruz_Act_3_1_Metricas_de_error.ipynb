{
  "nbformat": 4,
  "nbformat_minor": 0,
  "metadata": {
    "colab": {
      "provenance": []
    },
    "kernelspec": {
      "name": "python3",
      "display_name": "Python 3"
    },
    "language_info": {
      "name": "python"
    }
  },
  "cells": [
    {
      "cell_type": "markdown",
      "source": [
        "# M.ª de los Ángeles Martín de la Cruz"
      ],
      "metadata": {
        "id": "Ki-_ZsntY2Vy"
      }
    },
    {
      "cell_type": "markdown",
      "source": [
        "24_25\n",
        "\n",
        "Actividad 3.1 - Métricas de error para los problemas de regresión\n",
        "\n",
        "A partir de los ejemplos indicados realizar los ejercicios propuestos"
      ],
      "metadata": {
        "id": "irnc2RYVuYVU"
      }
    },
    {
      "cell_type": "code",
      "execution_count": 2,
      "metadata": {
        "colab": {
          "base_uri": "https://localhost:8080/"
        },
        "id": "jVLFdfzxdsfG",
        "outputId": "1ac153ae-9fb8-414c-87f5-44a6a07125ba"
      },
      "outputs": [
        {
          "output_type": "execute_result",
          "data": {
            "text/plain": [
              "0.375"
            ]
          },
          "metadata": {},
          "execution_count": 2
        }
      ],
      "source": [
        "#Error absoluto medio - mae\n",
        "from sklearn.metrics import mean_absolute_error\n",
        "# Ejemplo 1\n",
        "y_true = [2.5, 0, 2, 8]\n",
        "y_pred = [2, 1, 2, 8]\n",
        "mean_absolute_error(y_true, y_pred)\n"
      ]
    },
    {
      "cell_type": "code",
      "source": [
        "# Ejer 1: Crear dos vectores/arrays de valores ciertos y valores previstos, y calcular el mae.\n",
        "# ¿Qué valores deberían de tener el array pred para que el error fuese 0? ¿y para que error fuese de 0.25?\n",
        "# MAE = la diferencia de la suma absoluta de los valores de cada array entre n [(n1y_true + n1y_pred) + (n2y_true + n2y_pred) ...]/n)\n",
        "\n",
        "from sklearn.metrics import mean_absolute_error\n",
        "\n",
        "# Valores reales (y_true)\n",
        "y_true_1 = [2, 0, 0, 0]\n",
        "\n",
        "# Caso 1: Error MAE = 0\n",
        "y_pred_1 = [2, 0, 0, 0]\n",
        "mae_1 = mean_absolute_error(y_true_1, y_pred_1)\n",
        "print(f\"MAE cuando y_pred = {y_pred_1}: {mae_1}\")\n",
        "\n",
        "# Caso 2: Error MAE = 0.25\n",
        "y_pred_2 = [3, 0, 0, 0] # 1 + 0 + 0 + 0 = 1/4 = 0.25\n",
        "mae_2 = mean_absolute_error(y_true_1, y_pred_2)\n",
        "print(f\"MAE cuando y_pred = {y_pred_2}: {mae_2}\")\n"
      ],
      "metadata": {
        "id": "67XK1bXegMai",
        "colab": {
          "base_uri": "https://localhost:8080/"
        },
        "outputId": "16e0dbe5-9bca-410c-9388-76e28fde1035"
      },
      "execution_count": 3,
      "outputs": [
        {
          "output_type": "stream",
          "name": "stdout",
          "text": [
            "MAE cuando y_pred = [2, 0, 0, 0]: 0.0\n",
            "MAE cuando y_pred = [3, 0, 0, 0]: 0.25\n"
          ]
        }
      ]
    },
    {
      "cell_type": "code",
      "source": [
        "# Ejemplo 2\n",
        "y_true = [[0.5, 1], [-1, 1], [7, -6]]\n",
        "y_pred = [[0, 2], [-1, 2], [8, -5]]\n",
        "mean_absolute_error(y_true, y_pred)"
      ],
      "metadata": {
        "id": "3LhzsD30f60T",
        "colab": {
          "base_uri": "https://localhost:8080/"
        },
        "outputId": "fb2dfb74-039a-489b-b1a5-50afd664d63c"
      },
      "execution_count": 4,
      "outputs": [
        {
          "output_type": "execute_result",
          "data": {
            "text/plain": [
              "0.75"
            ]
          },
          "metadata": {},
          "execution_count": 4
        }
      ]
    },
    {
      "cell_type": "code",
      "source": [
        "# Ejer 2: Crear dos matrices/arrays de valores ciertos y valores previstos, y calcular el mae.\n",
        "# ¿Qué valores deberían de tener el array pred para que el error fuese 0? ¿y para que error fuese de 0.33?\n",
        "\n",
        "from sklearn.metrics import mean_absolute_error\n",
        "import numpy as np\n",
        "\n",
        "# Caso 1: Error MAE = 0\n",
        "y_true = np.array([[2, 5, 3], [8, 6, 4]])\n",
        "y_pred_1 = np.array([[2, 5, 3], [8, 6, 4]])\n",
        "\n",
        "# Calculamos el MAE\n",
        "mae_1 = mean_absolute_error(y_true, y_pred_1)\n",
        "print(f\"MAE para matrices idénticas: {mae_1}\")\n",
        "\n",
        "# Caso 2: Error MAE = 0.33\n",
        "y_pred_2 = np.array([[2.33, 4.67, 3.33], [8.33, 5.67, 3.67]])\n",
        "\n",
        "# Calculamos el MAE\n",
        "mae_2 = mean_absolute_error(y_true, y_pred_2)\n",
        "print(f\"MAE para matrices con diferencias ajustadas: {mae_2}\")\n",
        "\n",
        "# Asegurarse de que la suma de las diferencias absolutas entre todos los elementos de las matrices sea igual a 0.33 × total de elementos\n",
        "# En este caso, las matrices tienen 6 elementos (2×3) por lo que: Suma de diferencias absolutas = 0.33 × 6 = 1.98\n",
        "#Ajustar los valores de y_pred_2 para que las diferencias absolutas sumen 1.98\n"
      ],
      "metadata": {
        "id": "LnPx6A4Astfq",
        "colab": {
          "base_uri": "https://localhost:8080/"
        },
        "outputId": "5d5e9eb5-dc31-4b94-df96-e8ae1ae54ca7"
      },
      "execution_count": 5,
      "outputs": [
        {
          "output_type": "stream",
          "name": "stdout",
          "text": [
            "MAE para matrices idénticas: 0.0\n",
            "MAE para matrices con diferencias ajustadas: 0.33000000000000007\n"
          ]
        }
      ]
    },
    {
      "cell_type": "code",
      "source": [
        "# Error cuadrático medio - mse\n",
        "from sklearn.metrics import mean_squared_error\n",
        "y_true = [3, -0.5, 2, 7]\n",
        "y_pred = [2.5, 0.0, 2, 8]\n",
        "mean_squared_error(y_true, y_pred)\n"
      ],
      "metadata": {
        "colab": {
          "base_uri": "https://localhost:8080/"
        },
        "id": "59efr-GWgKP6",
        "outputId": "2de8512c-b899-4d4f-ded7-1485851bc243"
      },
      "execution_count": 6,
      "outputs": [
        {
          "output_type": "execute_result",
          "data": {
            "text/plain": [
              "0.375"
            ]
          },
          "metadata": {},
          "execution_count": 6
        }
      ]
    },
    {
      "cell_type": "code",
      "source": [
        "# Ejer 3: Crear dos vectores/arrays de valores ciertos y valores previstos, y calcular el mse.\n",
        "# ¿Qué valores deberían de tener el array pred para que el error fuese 0? ¿y para que error fuese de 0.25?\n",
        "# Nota: Es muy interesante comparar los resultados al aplicaer mae y mse sobre el mismo conjunto de datos. Podrás obervar\n",
        "#       que mse \"penaliza más\" (es decir, el número que se obtiene es mayor) con las diferencias entre los valores originales y los predichos que mae\n",
        "\n",
        "# Valores reales (y_true)\n",
        "y_true_1 = [2, 0, 0, 0]\n",
        "\n",
        "# Caso 1: Error MAE = 0\n",
        "y_pred_1 = [2, 0, 0, 0]\n",
        "mse_1 = mean_squared_error(y_true_1, y_pred_1)\n",
        "print(f\"MSE cuando y_pred = {y_pred_1}: {mse_1}\")\n",
        "\n",
        "# Caso 2: Error MAE = 0.25\n",
        "y_pred_2 = [3, 0, 0, 0]\n",
        "mse_2 = mean_squared_error(y_true_1, y_pred_2)\n",
        "print(f\"MSE cuando y_pred = {y_pred_2}: {mse_2}\")\n",
        "\n"
      ],
      "metadata": {
        "id": "FLZt6j17u7sE",
        "colab": {
          "base_uri": "https://localhost:8080/"
        },
        "outputId": "8763c25d-95f4-4252-a955-cc823349ff07"
      },
      "execution_count": 7,
      "outputs": [
        {
          "output_type": "stream",
          "name": "stdout",
          "text": [
            "MSE cuando y_pred = [2, 0, 0, 0]: 0.0\n",
            "MSE cuando y_pred = [3, 0, 0, 0]: 0.25\n"
          ]
        }
      ]
    },
    {
      "cell_type": "code",
      "source": [
        "# Ejer 4: Crear dos matrices/arrays de valores ciertos y valores previstos, y calcular el mae.\n",
        "# ¿Qué valores deberían de tener el array pred para que el error fuese 0? ¿y para que error fuese de 0.33?\n",
        "\n",
        "# Caso 1: Error MSE = 0\n",
        "y_true = np.array([[2, 5, 3], [8, 6, 4]])\n",
        "y_pred_1 = np.array([[2, 5, 3], [8, 6, 4]])\n",
        "\n",
        "# Calculamos el MSE\n",
        "mse_1 = mean_squared_error(y_true, y_pred_1)\n",
        "print(f\"MSE para matrices idénticas: {mse_1}\")\n",
        "\n",
        "# Caso 2: Error MSE = 0.33\n",
        "y_pred_2 = np.array([[2.33, 4.67, 4.2], [8.33, 5.67, 3.67]])\n",
        "\n",
        "# Calculamos el MSE\n",
        "mse_2 = mean_squared_error(y_true, y_pred_2)\n",
        "print(f\"MSE para matrices con diferencias ajustadas: {mse_2}\")\n"
      ],
      "metadata": {
        "id": "M9nZd4nLvIRB",
        "colab": {
          "base_uri": "https://localhost:8080/"
        },
        "outputId": "32b77e50-c5ff-407d-bd75-e0a13a5982d2"
      },
      "execution_count": 26,
      "outputs": [
        {
          "output_type": "stream",
          "name": "stdout",
          "text": [
            "MSE para matrices idénticas: 0.0\n",
            "MSE para matrices con diferencias ajustadas: 0.3307500000000001\n"
          ]
        }
      ]
    },
    {
      "cell_type": "code",
      "source": [
        "# Error de porcentaje absoluto medio - mape\n",
        "from sklearn.metrics import mean_absolute_percentage_error\n",
        "y_true = [3, -0.5, 2, 7]\n",
        "y_pred = [2.5, 0.0, 2, 8]\n",
        "mean_absolute_percentage_error(y_true, y_pred)"
      ],
      "metadata": {
        "colab": {
          "base_uri": "https://localhost:8080/"
        },
        "id": "0j3DDJPnBTmF",
        "outputId": "5320aa70-deaf-4d8a-8dba-aa45f6783aad"
      },
      "execution_count": 27,
      "outputs": [
        {
          "output_type": "execute_result",
          "data": {
            "text/plain": [
              "0.3273809523809524"
            ]
          },
          "metadata": {},
          "execution_count": 27
        }
      ]
    },
    {
      "cell_type": "code",
      "source": [
        "# Ejer 5: Crear dos vectores/arrays de valores ciertos y valores previstos, y calcular el mape.\n",
        "# ¿Qué valores deberían de tener el array pred para que el error fuese 0?\n",
        "y_true_1 = np.array([2, 5, 3, 8])\n",
        "y_pred_1 = np.array([2, 5, 3, 8])\n",
        "\n",
        "# Calculamos el MAPE\n",
        "mape_1 = mean_absolute_percentage_error(y_true_1, y_pred_1)\n",
        "print(f\"MAPE para valores idénticos: {mape_1}\")"
      ],
      "metadata": {
        "id": "0vsYXdRqB0TE",
        "colab": {
          "base_uri": "https://localhost:8080/"
        },
        "outputId": "bb264d18-da80-4b04-d3a1-5f01f534bbdc"
      },
      "execution_count": 29,
      "outputs": [
        {
          "output_type": "stream",
          "name": "stdout",
          "text": [
            "MAPE para valores idénticos: 0.0\n"
          ]
        }
      ]
    },
    {
      "cell_type": "code",
      "source": [
        "# Ejer 6: Crear dos matrices/arrays de valores ciertos y valores previstos, y calcular el MAPE.\n",
        "# ¿Qué valores deberían de tener el array pred para que el error fuese 0?\n",
        "y_true = np.array([[2, 5, 3], [8, 6, 4]])\n",
        "y_pred = np.array([[2, 5, 3], [8, 6, 4]])\n",
        "\n",
        "# Calculamos el MAPE\n",
        "mape = mean_absolute_percentage_error(y_true, y_pred)\n",
        "print(f\"MAPE para matrices idénticas: {mape}\")"
      ],
      "metadata": {
        "id": "085pmFVO-cA3",
        "colab": {
          "base_uri": "https://localhost:8080/"
        },
        "outputId": "68272079-2a4a-4006-d1e6-5002a00e16d4"
      },
      "execution_count": 30,
      "outputs": [
        {
          "output_type": "stream",
          "name": "stdout",
          "text": [
            "MAPE para matrices idénticas: 0.0\n"
          ]
        }
      ]
    }
  ]
}